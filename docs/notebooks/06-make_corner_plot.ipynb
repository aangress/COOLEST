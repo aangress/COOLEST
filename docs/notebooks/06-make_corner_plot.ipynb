{
 "cells": [
  {
   "cell_type": "markdown",
   "id": "1a14f34a",
   "metadata": {},
   "source": [
    "# Making a corner plot of free parameters\n",
    "\n",
    "This notebook shows an example of making a corner plot of free model parameters from two COOLEST files/models. A chain file must be contained in the directory of each COOLEST file. In this case we plot the mass model and external shear parameters (they must match between the two COOLEST files, otherwise an exception is raised).\n",
    "\n",
    "_Note: this notebook is aiming to reproduce fig. 12 from Vernardos & Koopmans (2022)._\n",
    "\n",
    "__authors__: @gvernard\n",
    "\n",
    "__created on__: 20/07/23\n",
    "\n",
    "__last update__: 20/07/23"
   ]
  },
  {
   "cell_type": "code",
   "execution_count": 1,
   "id": "4808304a",
   "metadata": {},
   "outputs": [],
   "source": [
    "%config InlineBackend.figure_format = 'retina'\n",
    "\n",
    "import os\n",
    "import time\n",
    "import glob\n",
    "import numpy as np\n",
    "import matplotlib.pyplot as plt\n",
    "from matplotlib.colors import Normalize, LogNorm, TwoSlopeNorm\n",
    "from pprint import pprint\n",
    "\n",
    "from coolest.api.analysis import Analysis\n",
    "from coolest.api.plotting import ModelPlotter, MultiModelPlotter, plot_corner\n",
    "from coolest.api import util"
   ]
  },
  {
   "cell_type": "code",
   "execution_count": 2,
   "id": "36e85633",
   "metadata": {},
   "outputs": [],
   "source": [
    "def print_info(coolest_object):\n",
    "    print(\"Lensing entities:\", [type(le).__name__ for le in coolest_object.lensing_entities])"
   ]
  },
  {
   "cell_type": "markdown",
   "id": "1106d6cc",
   "metadata": {},
   "source": [
    "## Load a few COOLEST files"
   ]
  },
  {
   "cell_type": "markdown",
   "id": "e7727434",
   "metadata": {},
   "source": [
    "We are loading two COOLEST files, the ones corresponding to fig. 12 in Vernardos & Koopmans (2022). We add a quick check to ensure that each file has a chain file associated to it in the 'meta' field."
   ]
  },
  {
   "cell_type": "code",
   "execution_count": 3,
   "id": "918f46ab",
   "metadata": {},
   "outputs": [
    {
     "name": "stdout",
     "output_type": "stream",
     "text": [
      "Failed reading '_pyAPI' template with jsonpickle, now trying with the pure json template (original error: Template file at '/home/giorgos/myCodes/COOLEST/docs/notebooks/database/vkl_paper_3.3_dummy/fff_gauss_gauss_n3/VKL_coolest/coolest_vkl_pyAPI.json' does not exist.)\n",
      "Lensing entities: ['MassField', 'Galaxy', 'Galaxy', 'Galaxy']\n",
      "Failed reading '_pyAPI' template with jsonpickle, now trying with the pure json template (original error: Template file at '/home/giorgos/myCodes/COOLEST/docs/notebooks/database/vkl_paper_3.4_dummy/fff_exp_gauss_n3/VKL_coolest/coolest_vkl_pyAPI.json' does not exist.)\n",
      "Lensing entities: ['MassField', 'Galaxy', 'Galaxy', 'Galaxy']\n",
      "Failed reading '_pyAPI' template with jsonpickle, now trying with the pure json template (original error: Template file at '/home/giorgos/myCodes/COOLEST/docs/notebooks/database/corner_truth/coolest_vkl_pyAPI.json' does not exist.)\n",
      "Lensing entities: ['MassField', 'Galaxy', 'Galaxy', 'Galaxy']\n",
      "Failed reading '_pyAPI' template with jsonpickle, now trying with the pure json template (original error: Template file at '/home/giorgos/myCodes/COOLEST/docs/notebooks/database/corner_truth_2/coolest_vkl_pyAPI.json' does not exist.)\n",
      "Lensing entities: ['MassField', 'Galaxy', 'Galaxy', 'Galaxy']\n"
     ]
    }
   ],
   "source": [
    "model_1_path = 'database/vkl_paper_3.3_dummy/fff_gauss_gauss_n3/VKL_coolest/coolest_vkl'\n",
    "coolest_1 = util.get_coolest_object(model_1_path, verbose=True, check_external_files=False)\n",
    "dir_1 = os.path.dirname(model_1_path)\n",
    "print_info(coolest_1)\n",
    "\n",
    "model_2_path = 'database/vkl_paper_3.4_dummy/fff_exp_gauss_n3/VKL_coolest/coolest_vkl'\n",
    "coolest_2 = util.get_coolest_object(model_2_path, verbose=True, check_external_files=False)\n",
    "dir_2 = os.path.dirname(model_2_path)\n",
    "print_info(coolest_2)\n",
    "\n",
    "truth_path = 'database/corner_truth/coolest_vkl'\n",
    "truth = util.get_coolest_object(truth_path, verbose=True, check_external_files=False)\n",
    "print_info(truth)\n",
    "\n",
    "truth_path2 = 'database/corner_truth_2/coolest_vkl'\n",
    "truth2 = util.get_coolest_object(truth_path2, verbose=True, check_external_files=False)\n",
    "print_info(truth2)"
   ]
  },
  {
   "cell_type": "markdown",
   "id": "09222291",
   "metadata": {},
   "source": [
    "## Get the list of free parameters from one of the models"
   ]
  },
  {
   "cell_type": "code",
   "execution_count": 6,
   "id": "39e05eaf",
   "metadata": {},
   "outputs": [
    {
     "name": "stdout",
     "output_type": "stream",
     "text": [
      "1-galaxy-mass-0-SIE-theta_E\n",
      "1-galaxy-mass-0-SIE-q\n",
      "1-galaxy-mass-0-SIE-phi\n",
      "1-galaxy-mass-0-SIE-center_x\n",
      "1-galaxy-mass-0-SIE-center_y\n",
      "0-massfield-mass-0-ExternalShear-gamma_ext\n",
      "0-massfield-mass-0-ExternalShear-phi_ext\n"
     ]
    }
   ],
   "source": [
    "tmp_free_pars = coolest_1.lensing_entities.get_parameter_ids()\n",
    "free_pars = tmp_free_pars[:-2] # Remove the last parameters that refer to the light of the source and the perturbations\n",
    "#print(\"Removed parameter(s): \",tmp_free_pars[-2:])\n",
    "\n",
    "# Re-order parameters\n",
    "reorder = [2,3,4,5,6,0,1]\n",
    "pars = [free_pars[i] for i in reorder]\n",
    "free_pars = pars\n",
    "\n",
    "[print(x) for x in free_pars]\n",
    "\n",
    "\n",
    "# Define a dict of labels for the parameters.\n",
    "# Default is to use the 'latex_str' property of each parameter.  \n",
    "# Here given custom labels to the shaer magnitude and agnle.\n",
    "labels = {\n",
    "    \"0-massfield-mass-0-ExternalShear-gamma_ext\": r\"\\gamma_{EXT}\",\n",
    "    \"0-massfield-mass-0-ExternalShear-phi_ext\": r\"\\phi_{EXT}\",\n",
    "    }\n",
    "#labels = None"
   ]
  },
  {
   "cell_type": "markdown",
   "id": "d8945179",
   "metadata": {},
   "source": [
    "## Make the corner plot"
   ]
  },
  {
   "cell_type": "code",
   "execution_count": null,
   "id": "78bdb86a",
   "metadata": {
    "scrolled": false
   },
   "outputs": [
    {
     "name": "stderr",
     "output_type": "stream",
     "text": [
      "WARNING:root:outlier fraction 0.0008496176720475786 \n",
      "WARNING:root:fine_bins not large enough to well sample smoothing scale - 1-galaxy-mass-0-SIE-theta_E\n",
      "WARNING:root:outlier fraction 0.001990049751243781 \n",
      "WARNING:root:fine_bins not large enough to well sample smoothing scale - 1-galaxy-mass-0-SIE-center_x\n",
      "WARNING:root:fine_bins_2D not large enough for optimal density: 1-galaxy-mass-0-SIE-theta_E, 1-galaxy-mass-0-SIE-center_x\n",
      "WARNING:root:fine_bins_2D not large enough for optimal density: 1-galaxy-mass-0-SIE-theta_E, 1-galaxy-mass-0-SIE-center_y\n",
      "WARNING:root:fine_bins_2D not large enough for optimal density: 1-galaxy-mass-0-SIE-center_x, 1-galaxy-mass-0-SIE-center_y\n"
     ]
    }
   ],
   "source": [
    "# Capture the image for any further adjustments (it is a GetDistPlotter object)\n",
    "colors = ['#E03424','#7FB6F5']\n",
    "settings={\"ignore_rows\": 0.0,\"fine_bins_2D\":800,\"smooth_scale_2D\":0.5,\"mult_bias_correction_order\":5}\n",
    "image = plot_corner(free_pars,\n",
    "                    [coolest_2,coolest_1],\n",
    "                    [dir_2,dir_1],\n",
    "                    point_estimate_objs=[truth,truth2],\n",
    "                    labels=labels,\n",
    "                    chain_names=[\"Complex source\",\"Smooth source\"],\n",
    "                    colors=colors,\n",
    "                    mc_samples_kwargs=settings)"
   ]
  },
  {
   "cell_type": "code",
   "execution_count": null,
   "id": "62d1cbb3",
   "metadata": {},
   "outputs": [],
   "source": []
  }
 ],
 "metadata": {
  "kernelspec": {
   "display_name": "Python 3 (ipykernel)",
   "language": "python",
   "name": "python3"
  },
  "language_info": {
   "codemirror_mode": {
    "name": "ipython",
    "version": 3
   },
   "file_extension": ".py",
   "mimetype": "text/x-python",
   "name": "python",
   "nbconvert_exporter": "python",
   "pygments_lexer": "ipython3",
   "version": "3.10.9"
  }
 },
 "nbformat": 4,
 "nbformat_minor": 5
}
