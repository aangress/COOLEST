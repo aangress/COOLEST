{
 "cells": [
  {
   "cell_type": "markdown",
   "id": "1a14f34a",
   "metadata": {},
   "source": [
    "# Making a corner plot of free parameters\n",
    "\n",
    "This notebook shows an example of making a corner plot of free model parameters from two COOLEST files/models. A chain file must be contained in the directory of each COOLEST file. In this case we plot the mass model and external shear parameters (they must match between the two COOLEST files, otherwise an exception is raised).\n",
    "\n",
    "_Note: this notebook is aiming to reproduce fig. 12 from Vernardos & Koopmans (2022)._\n",
    "\n",
    "__authors__: @gvernard\n",
    "\n",
    "__created on__: 20/07/23\n",
    "\n",
    "__last update__: 20/07/23"
   ]
  },
  {
   "cell_type": "code",
   "execution_count": 1,
   "id": "4808304a",
   "metadata": {},
   "outputs": [
    {
     "ename": "ModuleNotFoundError",
     "evalue": "No module named 'getdist'",
     "output_type": "error",
     "traceback": [
      "\u001b[0;31m---------------------------------------------------------------------------\u001b[0m",
      "\u001b[0;31mModuleNotFoundError\u001b[0m                       Traceback (most recent call last)",
      "Cell \u001b[0;32mIn[1], line 12\u001b[0m\n\u001b[1;32m      9\u001b[0m \u001b[38;5;28;01mfrom\u001b[39;00m \u001b[38;5;21;01mpprint\u001b[39;00m \u001b[38;5;28;01mimport\u001b[39;00m pprint\n\u001b[1;32m     11\u001b[0m \u001b[38;5;28;01mfrom\u001b[39;00m \u001b[38;5;21;01mcoolest\u001b[39;00m\u001b[38;5;21;01m.\u001b[39;00m\u001b[38;5;21;01mapi\u001b[39;00m\u001b[38;5;21;01m.\u001b[39;00m\u001b[38;5;21;01manalysis\u001b[39;00m \u001b[38;5;28;01mimport\u001b[39;00m Analysis\n\u001b[0;32m---> 12\u001b[0m \u001b[38;5;28;01mfrom\u001b[39;00m \u001b[38;5;21;01mcoolest\u001b[39;00m\u001b[38;5;21;01m.\u001b[39;00m\u001b[38;5;21;01mapi\u001b[39;00m\u001b[38;5;21;01m.\u001b[39;00m\u001b[38;5;21;01mplotting\u001b[39;00m \u001b[38;5;28;01mimport\u001b[39;00m ModelPlotter, MultiModelPlotter, plot_corner\n\u001b[1;32m     13\u001b[0m \u001b[38;5;28;01mfrom\u001b[39;00m \u001b[38;5;21;01mcoolest\u001b[39;00m\u001b[38;5;21;01m.\u001b[39;00m\u001b[38;5;21;01mapi\u001b[39;00m \u001b[38;5;28;01mimport\u001b[39;00m util\n",
      "File \u001b[0;32m<frozen zipimport>:259\u001b[0m, in \u001b[0;36mload_module\u001b[0;34m(self, fullname)\u001b[0m\n",
      "File \u001b[0;32m~/anaconda3/lib/python3.8/site-packages/coolest-0.0.1-py3.8.egg/coolest/api/plotting.py:10\u001b[0m\n\u001b[1;32m      8\u001b[0m \u001b[38;5;28;01mfrom\u001b[39;00m \u001b[38;5;21;01mmatplotlib\u001b[39;00m\u001b[38;5;21;01m.\u001b[39;00m\u001b[38;5;21;01mcolors\u001b[39;00m \u001b[38;5;28;01mimport\u001b[39;00m Normalize, LogNorm, TwoSlopeNorm\n\u001b[1;32m      9\u001b[0m \u001b[38;5;28;01mfrom\u001b[39;00m \u001b[38;5;21;01mmatplotlib\u001b[39;00m\u001b[38;5;21;01m.\u001b[39;00m\u001b[38;5;21;01mcolors\u001b[39;00m \u001b[38;5;28;01mimport\u001b[39;00m ListedColormap\n\u001b[0;32m---> 10\u001b[0m \u001b[38;5;28;01mfrom\u001b[39;00m \u001b[38;5;21;01mgetdist\u001b[39;00m \u001b[38;5;28;01mimport\u001b[39;00m plots,chains,MCSamples\n\u001b[1;32m     12\u001b[0m \u001b[38;5;28;01mfrom\u001b[39;00m \u001b[38;5;21;01mcoolest\u001b[39;00m\u001b[38;5;21;01m.\u001b[39;00m\u001b[38;5;21;01mapi\u001b[39;00m\u001b[38;5;21;01m.\u001b[39;00m\u001b[38;5;21;01manalysis\u001b[39;00m \u001b[38;5;28;01mimport\u001b[39;00m Analysis\n\u001b[1;32m     13\u001b[0m \u001b[38;5;28;01mfrom\u001b[39;00m \u001b[38;5;21;01mcoolest\u001b[39;00m\u001b[38;5;21;01m.\u001b[39;00m\u001b[38;5;21;01mapi\u001b[39;00m\u001b[38;5;21;01m.\u001b[39;00m\u001b[38;5;21;01mcomposable_models\u001b[39;00m \u001b[38;5;28;01mimport\u001b[39;00m \u001b[38;5;241m*\u001b[39m\n",
      "\u001b[0;31mModuleNotFoundError\u001b[0m: No module named 'getdist'"
     ]
    }
   ],
   "source": [
    "%config InlineBackend.figure_format = 'retina'\n",
    "\n",
    "import os\n",
    "import time\n",
    "import glob\n",
    "import numpy as np\n",
    "import matplotlib.pyplot as plt\n",
    "from matplotlib.colors import Normalize, LogNorm, TwoSlopeNorm\n",
    "from pprint import pprint\n",
    "\n",
    "from coolest.api.analysis import Analysis\n",
    "from coolest.api.plotting import ModelPlotter, MultiModelPlotter, plot_corner\n",
    "from coolest.api import util"
   ]
  },
  {
   "cell_type": "code",
   "execution_count": null,
   "id": "36e85633",
   "metadata": {},
   "outputs": [],
   "source": [
    "def print_info(coolest_object):\n",
    "    source_index = 2  # index of the source galaxy in the list of `lensing entities`\n",
    "    print(\"Lensing entities:\", [type(le).__name__ for le in coolest_object.lensing_entities])\n",
    "    print(\"Source light model:\", [type(m).__name__ for m in coolest_object.lensing_entities[source_index].light_model])"
   ]
  },
  {
   "cell_type": "markdown",
   "id": "1106d6cc",
   "metadata": {},
   "source": [
    "## Load a few COOLEST files"
   ]
  },
  {
   "cell_type": "markdown",
   "id": "e7727434",
   "metadata": {},
   "source": [
    "We are loading two COOLEST files, the ones corresponding to fig. 12 in Vernardos & Koopmans (2022). We add a quick check to ensure that each file has a chain file associated to it in the 'meta' field."
   ]
  },
  {
   "cell_type": "code",
   "execution_count": null,
   "id": "918f46ab",
   "metadata": {},
   "outputs": [],
   "source": [
    "coolest_1 = util.get_coolest_object('database/corner/model_1/coolest_vkl', verbose=True, check_external_files=False)\n",
    "print_info(coolest_1)\n",
    "\n",
    "coolest_2 = util.get_coolest_object('database/corner/model_2/coolest_vkl', verbose=True, check_external_files=False)\n",
    "print_info(coolest_2)"
   ]
  },
  {
   "cell_type": "markdown",
   "id": "09222291",
   "metadata": {},
   "source": [
    "## Setup custom coordinates\n",
    "\n",
    "so that we can evaluate light profiles consistently on that specific coordinates grid. "
   ]
  },
  {
   "cell_type": "code",
   "execution_count": null,
   "id": "39e05eaf",
   "metadata": {},
   "outputs": [],
   "source": [
    "coord_orig = util.get_coordinates(coolest)\n",
    "x_orig, y_orig = coord_orig.pixel_coordinates\n",
    "print(coord_orig.plt_extent)\n",
    "\n",
    "#coord_src = coord_orig.create_new_coordinates(pixel_scale_factor=0.1, grid_shape=(1.42, 1.42))\n",
    "#x_src, y_src = coord_src.pixel_coordinates\n",
    "#print(coord_src.plt_extent)"
   ]
  },
  {
   "cell_type": "markdown",
   "id": "d8945179",
   "metadata": {},
   "source": [
    "## Compute and plot the two-point correlation function"
   ]
  },
  {
   "cell_type": "code",
   "execution_count": null,
   "id": "78bdb86a",
   "metadata": {},
   "outputs": [],
   "source": [
    "analysis = Analysis(coolest, input_path, supersampling=5)\n",
    "\n",
    "# Analytic profile\n",
    "x0,y0,err0 = analysis.two_point_correlation(rmax=0.8,normalize=True,entity_selection=[0])\n",
    "\n",
    "# Spiral galaxy\n",
    "x1,y1,err1 = analysis.two_point_correlation(rmax=0.8,normalize=True,entity_selection=[1])\n",
    "\n",
    "# Marger\n",
    "x2,y2,err2 = analysis.two_point_correlation(rmax=0.8,normalize=True,entity_selection=[2])\n",
    "\n",
    "\n",
    "# This is to normalize the curves to their maximum in order to obtain exactly the same figure as fig. 3 in Vernardos et al. (2020)\n",
    "#y0 /= np.amax(y0)\n",
    "#y1 /= np.amax(y1)\n",
    "#y2 /= np.amax(y2)\n",
    "\n",
    "\n",
    "fig, ax = plt.subplots(1, 1, figsize=(8, 5.5))\n",
    "\n",
    "ax.scatter(x0,y0,marker='o',label=\"Analytic\")\n",
    "ax.scatter(x1,y1,marker='^',label=\"Spiral\")\n",
    "ax.scatter(x2,y2,marker='s',label=\"Merger\")\n",
    "\n",
    "ax.set_xlabel(r\"$r$ [arcsec]\")\n",
    "ax.set_ylabel(r\"Power\")\n",
    "\n",
    "ax.legend()\n",
    "ax.set_xlim(left=0)\n",
    "ax.set_ylim(bottom=0)\n",
    "fig.tight_layout()\n",
    "plt.show()"
   ]
  },
  {
   "cell_type": "code",
   "execution_count": null,
   "id": "500ed846",
   "metadata": {},
   "outputs": [],
   "source": []
  }
 ],
 "metadata": {
  "kernelspec": {
   "display_name": "Python 3 (ipykernel)",
   "language": "python",
   "name": "python3"
  },
  "language_info": {
   "codemirror_mode": {
    "name": "ipython",
    "version": 3
   },
   "file_extension": ".py",
   "mimetype": "text/x-python",
   "name": "python",
   "nbconvert_exporter": "python",
   "pygments_lexer": "ipython3",
   "version": "3.8.8"
  }
 },
 "nbformat": 4,
 "nbformat_minor": 5
}
