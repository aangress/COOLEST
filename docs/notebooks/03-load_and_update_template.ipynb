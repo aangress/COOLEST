{
 "cells": [
  {
   "cell_type": "markdown",
   "metadata": {},
   "source": [
    "# Read & update a standard JSON template\n",
    "\n",
    "In this notebook we cover two ways to read and update an existing COOLEST template file:\n",
    "\n",
    "- _Option 1_: using standard JSON utilities;\n",
    "\n",
    "- _Option 2_: using the dedicated COOLEST Python interface.\n",
    "\n",
    "__author__: @aymgal\n",
    "\n",
    "__last update__: 02/08/23"
   ]
  },
  {
   "cell_type": "code",
   "execution_count": 1,
   "metadata": {},
   "outputs": [],
   "source": [
    "import os\n",
    "from pprint import pprint"
   ]
  },
  {
   "cell_type": "code",
   "execution_count": 2,
   "metadata": {},
   "outputs": [],
   "source": [
    "TEMPLATE_NAME = 'coolest_template'\n",
    "TEMPLATE_DIR = 'template_dir'"
   ]
  },
  {
   "cell_type": "markdown",
   "metadata": {},
   "source": [
    "## _Option 1:_ Load the JSON as a nested dictionnary\n",
    "\n",
    "This option only requires to the standard python module `json`. This can be useful for example when querying the template online for database purposes.\n",
    "\n",
    "It allows to update 'by hand' the content of the JSON file, following the syntax of python containers (essentially nested `dict`s and `list`s)."
   ]
  },
  {
   "cell_type": "code",
   "execution_count": 3,
   "metadata": {},
   "outputs": [],
   "source": [
    "import json"
   ]
  },
  {
   "cell_type": "markdown",
   "metadata": {},
   "source": [
    "### Load the JSON as standard dictionnary"
   ]
  },
  {
   "cell_type": "code",
   "execution_count": 4,
   "metadata": {},
   "outputs": [],
   "source": [
    "with open(os.path.join(os.getcwd(), TEMPLATE_DIR, TEMPLATE_NAME + '.json'), 'r') as f:\n",
    "    content = json.load(f)"
   ]
  },
  {
   "cell_type": "markdown",
   "metadata": {},
   "source": [
    "### Explore its content"
   ]
  },
  {
   "cell_type": "code",
   "execution_count": 5,
   "metadata": {},
   "outputs": [
    {
     "name": "stdout",
     "output_type": "stream",
     "text": [
      "[{'mass_model': [{'id': '0-massfield-mass-0-ExternalShear',\n",
      "                  'parameters': {'gamma_ext': {'fixed': False,\n",
      "                                               'id': '0-massfield-mass-0-ExternalShear-gamma_ext',\n",
      "                                               'point_estimate': {'value': 0.07},\n",
      "                                               'posterior_stats': {'mean': None,\n",
      "                                                                   'median': None,\n",
      "                                                                   'percentile_16th': None,\n",
      "                                                                   'percentile_84th': None},\n",
      "                                               'prior': {'type': None}},\n",
      "                                 'phi_ext': {'fixed': False,\n",
      "                                             'id': '0-massfield-mass-0-ExternalShear-phi_ext',\n",
      "                                             'point_estimate': {'value': None},\n",
      "                                             'posterior_stats': {'mean': None,\n",
      "                                                                 'median': None,\n",
      "                                                                 'percentile_16th': None,\n",
      "                                                                 'percentile_84th': None},\n",
      "                                             'prior': {'type': None}}},\n",
      "                  'type': 'ExternalShear'}],\n",
      "  'name': 'my lovely external shear',\n",
      "  'redshift': 0.5,\n",
      "  'type': 'MassField'},\n",
      " {'light_model': [{'id': '1-galaxy-light-0-Sersic',\n",
      "                   'parameters': {'I_eff': {'fixed': False,\n",
      "                                            'id': '1-galaxy-light-0-Sersic-I_eff',\n",
      "                                            'point_estimate': {'value': None},\n",
      "                                            'posterior_stats': {'mean': None,\n",
      "                                                                'median': None,\n",
      "                                                                'percentile_16th': None,\n",
      "                                                                'percentile_84th': None},\n",
      "                                            'prior': {'type': None}},\n",
      "                                  'center_x': {'fixed': False,\n",
      "                                               'id': '1-galaxy-light-0-Sersic-center_x',\n",
      "                                               'point_estimate': {'value': None},\n",
      "                                               'posterior_stats': {'mean': None,\n",
      "                                                                   'median': None,\n",
      "                                                                   'percentile_16th': None,\n",
      "                                                                   'percentile_84th': None},\n",
      "                                               'prior': {'type': None}},\n",
      "                                  'center_y': {'fixed': False,\n",
      "                                               'id': '1-galaxy-light-0-Sersic-center_y',\n",
      "                                               'point_estimate': {'value': None},\n",
      "                                               'posterior_stats': {'mean': None,\n",
      "                                                                   'median': None,\n",
      "                                                                   'percentile_16th': None,\n",
      "                                                                   'percentile_84th': None},\n",
      "                                               'prior': {'type': None}},\n",
      "                                  'n': {'fixed': False,\n",
      "                                        'id': '1-galaxy-light-0-Sersic-n',\n",
      "                                        'point_estimate': {'value': None},\n",
      "                                        'posterior_stats': {'mean': None,\n",
      "                                                            'median': None,\n",
      "                                                            'percentile_16th': None,\n",
      "                                                            'percentile_84th': None},\n",
      "                                        'prior': {'type': None}},\n",
      "                                  'phi': {'fixed': False,\n",
      "                                          'id': '1-galaxy-light-0-Sersic-phi',\n",
      "                                          'point_estimate': {'value': None},\n",
      "                                          'posterior_stats': {'mean': None,\n",
      "                                                              'median': None,\n",
      "                                                              'percentile_16th': None,\n",
      "                                                              'percentile_84th': None},\n",
      "                                          'prior': {'type': None}},\n",
      "                                  'q': {'fixed': False,\n",
      "                                        'id': '1-galaxy-light-0-Sersic-q',\n",
      "                                        'point_estimate': {'value': None},\n",
      "                                        'posterior_stats': {'mean': None,\n",
      "                                                            'median': None,\n",
      "                                                            'percentile_16th': None,\n",
      "                                                            'percentile_84th': None},\n",
      "                                        'prior': {'type': None}},\n",
      "                                  'theta_eff': {'fixed': False,\n",
      "                                                'id': '1-galaxy-light-0-Sersic-theta_eff',\n",
      "                                                'point_estimate': {'value': None},\n",
      "                                                'posterior_stats': {'mean': None,\n",
      "                                                                    'median': None,\n",
      "                                                                    'percentile_16th': None,\n",
      "                                                                    'percentile_84th': None},\n",
      "                                                'prior': {'type': None}}},\n",
      "                   'type': 'Sersic'},\n",
      "                  {'id': '1-galaxy-light-1-Sersic',\n",
      "                   'parameters': {'I_eff': {'fixed': False,\n",
      "                                            'id': '1-galaxy-light-1-Sersic-I_eff',\n",
      "                                            'point_estimate': {'value': None},\n",
      "                                            'posterior_stats': {'mean': None,\n",
      "                                                                'median': None,\n",
      "                                                                'percentile_16th': None,\n",
      "                                                                'percentile_84th': None},\n",
      "                                            'prior': {'type': None}},\n",
      "                                  'center_x': {'fixed': False,\n",
      "                                               'id': '1-galaxy-light-1-Sersic-center_x',\n",
      "                                               'point_estimate': {'value': None},\n",
      "                                               'posterior_stats': {'mean': None,\n",
      "                                                                   'median': None,\n",
      "                                                                   'percentile_16th': None,\n",
      "                                                                   'percentile_84th': None},\n",
      "                                               'prior': {'type': None}},\n",
      "                                  'center_y': {'fixed': False,\n",
      "                                               'id': '1-galaxy-light-1-Sersic-center_y',\n",
      "                                               'point_estimate': {'value': None},\n",
      "                                               'posterior_stats': {'mean': None,\n",
      "                                                                   'median': None,\n",
      "                                                                   'percentile_16th': None,\n",
      "                                                                   'percentile_84th': None},\n",
      "                                               'prior': {'type': None}},\n",
      "                                  'n': {'fixed': False,\n",
      "                                        'id': '1-galaxy-light-1-Sersic-n',\n",
      "                                        'point_estimate': {'value': None},\n",
      "                                        'posterior_stats': {'mean': None,\n",
      "                                                            'median': None,\n",
      "                                                            'percentile_16th': None,\n",
      "                                                            'percentile_84th': None},\n",
      "                                        'prior': {'type': None}},\n",
      "                                  'phi': {'fixed': False,\n",
      "                                          'id': '1-galaxy-light-1-Sersic-phi',\n",
      "                                          'point_estimate': {'value': None},\n",
      "                                          'posterior_stats': {'mean': None,\n",
      "                                                              'median': None,\n",
      "                                                              'percentile_16th': None,\n",
      "                                                              'percentile_84th': None},\n",
      "                                          'prior': {'type': None}},\n",
      "                                  'q': {'fixed': False,\n",
      "                                        'id': '1-galaxy-light-1-Sersic-q',\n",
      "                                        'point_estimate': {'value': 0.89},\n",
      "                                        'posterior_stats': {'mean': None,\n",
      "                                                            'median': None,\n",
      "                                                            'percentile_16th': None,\n",
      "                                                            'percentile_84th': None},\n",
      "                                        'prior': {'type': None}},\n",
      "                                  'theta_eff': {'fixed': False,\n",
      "                                                'id': '1-galaxy-light-1-Sersic-theta_eff',\n",
      "                                                'point_estimate': {'value': None},\n",
      "                                                'posterior_stats': {'mean': None,\n",
      "                                                                    'median': None,\n",
      "                                                                    'percentile_16th': None,\n",
      "                                                                    'percentile_84th': None},\n",
      "                                                'prior': {'type': None}}},\n",
      "                   'type': 'Sersic'}],\n",
      "  'mass_model': [{'id': '1-galaxy-mass-0-PEMD',\n",
      "                  'parameters': {'center_x': {'fixed': False,\n",
      "                                              'id': '1-galaxy-mass-0-PEMD-center_x',\n",
      "                                              'point_estimate': {'value': None},\n",
      "                                              'posterior_stats': {'mean': None,\n",
      "                                                                  'median': None,\n",
      "                                                                  'percentile_16th': None,\n",
      "                                                                  'percentile_84th': None},\n",
      "                                              'prior': {'type': None}},\n",
      "                                 'center_y': {'fixed': False,\n",
      "                                              'id': '1-galaxy-mass-0-PEMD-center_y',\n",
      "                                              'point_estimate': {'value': None},\n",
      "                                              'posterior_stats': {'mean': None,\n",
      "                                                                  'median': None,\n",
      "                                                                  'percentile_16th': None,\n",
      "                                                                  'percentile_84th': None},\n",
      "                                              'prior': {'type': None}},\n",
      "                                 'gamma': {'fixed': False,\n",
      "                                           'id': '1-galaxy-mass-0-PEMD-gamma',\n",
      "                                           'point_estimate': {'value': None},\n",
      "                                           'posterior_stats': {'mean': None,\n",
      "                                                               'median': None,\n",
      "                                                               'percentile_16th': None,\n",
      "                                                               'percentile_84th': None},\n",
      "                                           'prior': {'mean': 2.0,\n",
      "                                                     'type': 'GaussianPrior',\n",
      "                                                     'width': 0.2}},\n",
      "                                 'phi': {'fixed': False,\n",
      "                                         'id': '1-galaxy-mass-0-PEMD-phi',\n",
      "                                         'point_estimate': {'value': None},\n",
      "                                         'posterior_stats': {'mean': None,\n",
      "                                                             'median': None,\n",
      "                                                             'percentile_16th': None,\n",
      "                                                             'percentile_84th': None},\n",
      "                                         'prior': {'type': None}},\n",
      "                                 'q': {'fixed': False,\n",
      "                                       'id': '1-galaxy-mass-0-PEMD-q',\n",
      "                                       'point_estimate': {'value': None},\n",
      "                                       'posterior_stats': {'mean': None,\n",
      "                                                           'median': None,\n",
      "                                                           'percentile_16th': None,\n",
      "                                                           'percentile_84th': None},\n",
      "                                       'prior': {'type': None}},\n",
      "                                 'theta_E': {'fixed': False,\n",
      "                                             'id': '1-galaxy-mass-0-PEMD-theta_E',\n",
      "                                             'point_estimate': {'value': None},\n",
      "                                             'posterior_stats': {'mean': None,\n",
      "                                                                 'median': None,\n",
      "                                                                 'percentile_16th': None,\n",
      "                                                                 'percentile_84th': None},\n",
      "                                             'prior': {'type': None}}},\n",
      "                  'type': 'PEMD'},\n",
      "                 {'id': '1-galaxy-mass-1-PixelatedRegularGridPotential',\n",
      "                  'parameters': {'pixels': {'field_of_view_x': [-3.0, 1.0],\n",
      "                                            'field_of_view_y': [-2.0, 2.0],\n",
      "                                            'fits_file': {'path': 'regul_grid_image.fits'},\n",
      "                                            'id': '1-galaxy-mass-1-PixelatedRegularGridPotential-pixels',\n",
      "                                            'num_pix_x': 0,\n",
      "                                            'num_pix_y': 0}},\n",
      "                  'type': 'PixelatedRegularGridPotential'}],\n",
      "  'name': 'a lens galaxy',\n",
      "  'redshift': 0.5,\n",
      "  'type': 'Galaxy'},\n",
      " {'light_model': [{'id': '2-galaxy-light-0-Sersic',\n",
      "                   'parameters': {'I_eff': {'fixed': False,\n",
      "                                            'id': '2-galaxy-light-0-Sersic-I_eff',\n",
      "                                            'point_estimate': {'value': None},\n",
      "                                            'posterior_stats': {'mean': None,\n",
      "                                                                'median': None,\n",
      "                                                                'percentile_16th': None,\n",
      "                                                                'percentile_84th': None},\n",
      "                                            'prior': {'type': None}},\n",
      "                                  'center_x': {'fixed': False,\n",
      "                                               'id': '2-galaxy-light-0-Sersic-center_x',\n",
      "                                               'point_estimate': {'value': None},\n",
      "                                               'posterior_stats': {'mean': None,\n",
      "                                                                   'median': None,\n",
      "                                                                   'percentile_16th': None,\n",
      "                                                                   'percentile_84th': None},\n",
      "                                               'prior': {'type': None}},\n",
      "                                  'center_y': {'fixed': False,\n",
      "                                               'id': '2-galaxy-light-0-Sersic-center_y',\n",
      "                                               'point_estimate': {'value': None},\n",
      "                                               'posterior_stats': {'mean': None,\n",
      "                                                                   'median': None,\n",
      "                                                                   'percentile_16th': None,\n",
      "                                                                   'percentile_84th': None},\n",
      "                                               'prior': {'type': None}},\n",
      "                                  'n': {'fixed': False,\n",
      "                                        'id': '2-galaxy-light-0-Sersic-n',\n",
      "                                        'point_estimate': {'value': None},\n",
      "                                        'posterior_stats': {'mean': None,\n",
      "                                                            'median': None,\n",
      "                                                            'percentile_16th': None,\n",
      "                                                            'percentile_84th': None},\n",
      "                                        'prior': {'type': None}},\n",
      "                                  'phi': {'fixed': False,\n",
      "                                          'id': '2-galaxy-light-0-Sersic-phi',\n",
      "                                          'point_estimate': {'value': None},\n",
      "                                          'posterior_stats': {'mean': None,\n",
      "                                                              'median': None,\n",
      "                                                              'percentile_16th': None,\n",
      "                                                              'percentile_84th': None},\n",
      "                                          'prior': {'type': None}},\n",
      "                                  'q': {'fixed': False,\n",
      "                                        'id': '2-galaxy-light-0-Sersic-q',\n",
      "                                        'point_estimate': {'value': None},\n",
      "                                        'posterior_stats': {'mean': None,\n",
      "                                                            'median': None,\n",
      "                                                            'percentile_16th': None,\n",
      "                                                            'percentile_84th': None},\n",
      "                                        'prior': {'type': None}},\n",
      "                                  'theta_eff': {'fixed': False,\n",
      "                                                'id': '2-galaxy-light-0-Sersic-theta_eff',\n",
      "                                                'point_estimate': {'value': None},\n",
      "                                                'posterior_stats': {'mean': 0.11,\n",
      "                                                                    'median': 0.15,\n",
      "                                                                    'percentile_16th': 0.03,\n",
      "                                                                    'percentile_84th': 0.05},\n",
      "                                                'prior': {'type': None}}},\n",
      "                   'type': 'Sersic'}],\n",
      "  'mass_model': [],\n",
      "  'name': 'a source galaxy',\n",
      "  'redshift': 2.0,\n",
      "  'type': 'Galaxy'},\n",
      " {'light_model': [{'id': '3-galaxy-light-0-PixelatedRegularGrid',\n",
      "                   'parameters': {'pixels': {'field_of_view_x': [-3.0, 1.0],\n",
      "                                             'field_of_view_y': [-2.0, 2.0],\n",
      "                                             'fits_file': {'path': 'regul_grid_image.fits'},\n",
      "                                             'id': '3-galaxy-light-0-PixelatedRegularGrid-pixels',\n",
      "                                             'num_pix_x': 0,\n",
      "                                             'num_pix_y': 0}},\n",
      "                   'type': 'PixelatedRegularGrid'}],\n",
      "  'mass_model': [],\n",
      "  'name': 'another source',\n",
      "  'redshift': 1.5,\n",
      "  'type': 'Galaxy'},\n",
      " {'light_model': [{'id': '4-galaxy-light-0-IrregularGrid',\n",
      "                   'parameters': {'pixels': {'field_of_view_x': [0, 0],\n",
      "                                             'field_of_view_y': [0, 0],\n",
      "                                             'fits_file': {'path': 'irreg_grid_pixels.fits'},\n",
      "                                             'id': '4-galaxy-light-0-IrregularGrid-pixels',\n",
      "                                             'num_pix': 0}},\n",
      "                   'type': 'IrregularGrid'}],\n",
      "  'mass_model': [],\n",
      "  'name': 'a VKL source',\n",
      "  'redshift': 1.2,\n",
      "  'type': 'Galaxy'}]\n"
     ]
    }
   ],
   "source": [
    "# print the lensing entities\n",
    "pprint(content['lensing_entities'])"
   ]
  },
  {
   "cell_type": "code",
   "execution_count": 6,
   "metadata": {
    "scrolled": true
   },
   "outputs": [
    {
     "name": "stdout",
     "output_type": "stream",
     "text": [
      "{'fixed': False,\n",
      " 'id': '1-galaxy-mass-0-PEMD-theta_E',\n",
      " 'point_estimate': {'value': None},\n",
      " 'posterior_stats': {'mean': None,\n",
      "                     'median': None,\n",
      "                     'percentile_16th': None,\n",
      "                     'percentile_84th': None},\n",
      " 'prior': {'type': None}}\n"
     ]
    }
   ],
   "source": [
    "# example for accessing some of the content\n",
    "pprint(content['lensing_entities'][1]['mass_model'][0]['parameters']['theta_E'])"
   ]
  },
  {
   "cell_type": "markdown",
   "metadata": {},
   "source": [
    "### Add a prior on a given parameter"
   ]
  },
  {
   "cell_type": "code",
   "execution_count": 7,
   "metadata": {},
   "outputs": [],
   "source": [
    "# type of prior\n",
    "content['lensing_entities'][1]\\\n",
    "    ['mass_model'][0]['parameters']['theta_E']\\\n",
    "    ['prior']['type'] = 'gaussian'\n",
    "\n",
    "# mean\n",
    "content['lensing_entities'][1]\\\n",
    "    ['mass_model'][0]['parameters']['theta_E']\\\n",
    "    ['prior']['mean'] = 1.0\n",
    "\n",
    "# width\n",
    "content['lensing_entities'][1]\\\n",
    "    ['mass_model'][0]['parameters']['theta_E']\\\n",
    "    ['prior']['width'] = 0.01"
   ]
  },
  {
   "cell_type": "markdown",
   "metadata": {},
   "source": [
    "### Assign a point estimate to a given parameter"
   ]
  },
  {
   "cell_type": "code",
   "execution_count": 8,
   "metadata": {},
   "outputs": [],
   "source": [
    "# here we add a gaussian prior on the source effective radius\n",
    "content['lensing_entities'][1]\\\n",
    "    ['light_model'][0]['parameters']['theta_eff']\\\n",
    "    ['value'] = 0.8"
   ]
  },
  {
   "cell_type": "markdown",
   "metadata": {},
   "source": [
    "### Assign statistics about the posterior distribution of a parameter"
   ]
  },
  {
   "cell_type": "code",
   "execution_count": 9,
   "metadata": {},
   "outputs": [],
   "source": [
    "# here we add posterior statistics on the external shear strength\n",
    "content['lensing_entities'][0]\\\n",
    "    ['mass_model'][0]['parameters']['gamma_ext']\\\n",
    "    ['posterior_stats']['mean'] = 0.03\n",
    "\n",
    "content['lensing_entities'][0]\\\n",
    "    ['mass_model'][0]['parameters']['gamma_ext']\\\n",
    "    ['posterior_stats']['median'] = 0.031\n",
    "\n",
    "content['lensing_entities'][0]\\\n",
    "    ['mass_model'][0]['parameters']['gamma_ext']\\\n",
    "    ['posterior_stats']['percentile_16th'] = 0.02\n",
    "\n",
    "content['lensing_entities'][0]\\\n",
    "    ['mass_model'][0]['parameters']['gamma_ext']\\\n",
    "    ['posterior_stats']['percentile_84th'] = 0.03"
   ]
  },
  {
   "cell_type": "markdown",
   "metadata": {},
   "source": [
    "### Save the current content as an updated JSON file"
   ]
  },
  {
   "cell_type": "code",
   "execution_count": 10,
   "metadata": {},
   "outputs": [],
   "source": [
    "# uncomment for saving the updated JSON file\n",
    "with open(os.path.join(os.getcwd(), TEMPLATE_DIR, 'updated_via_json.json'), 'w') as f:\n",
    "    f.write(json.dumps(content, sort_keys=True, indent=2))\n",
    "    \n",
    "# Note: you can also update the original JSON template if you wish"
   ]
  },
  {
   "cell_type": "markdown",
   "metadata": {},
   "source": [
    "## _Option 2:_ Use the `COOLEST` Python interface\n",
    "\n",
    "The `coolest.template` interface allows to manipulate the content of the JSON file as a hierachy of python objects, and to updated fields with new instances of objects."
   ]
  },
  {
   "cell_type": "code",
   "execution_count": 11,
   "metadata": {},
   "outputs": [],
   "source": [
    "from coolest.template.json import JSONSerializer\n",
    "from coolest.template.classes.probabilities import GaussianPrior\n",
    "from coolest.template.classes.parameter import PointEstimate\n",
    "from coolest.template.classes.probabilities import PosteriorStatistics"
   ]
  },
  {
   "cell_type": "markdown",
   "metadata": {},
   "source": [
    "### Decode the JSON file"
   ]
  },
  {
   "cell_type": "code",
   "execution_count": 12,
   "metadata": {},
   "outputs": [],
   "source": [
    "decoder = JSONSerializer(os.path.join(os.getcwd(), TEMPLATE_DIR, TEMPLATE_NAME), indent=2)\n",
    "coolest_object = decoder.load()"
   ]
  },
  {
   "cell_type": "markdown",
   "metadata": {},
   "source": [
    "### Explore the content, print some attributes"
   ]
  },
  {
   "cell_type": "code",
   "execution_count": 13,
   "metadata": {
    "scrolled": true
   },
   "outputs": [
    {
     "name": "stdout",
     "output_type": "stream",
     "text": [
      "Content:\n",
      "{'coordinates_origin': <coolest.template.classes.coordinates.CoordinatesOrigin object at 0x123d16b80>,\n",
      " 'cosmology': <coolest.template.classes.cosmology.Cosmology object at 0x123d16f40>,\n",
      " 'instrument': <coolest.template.classes.instrument.Instrument object at 0x123d16ee0>,\n",
      " 'lensing_entities': [<coolest.template.classes.mass_field.MassField object at 0x123d16c10>,\n",
      "                      <coolest.template.classes.galaxy.Galaxy object at 0x123d16880>,\n",
      "                      <coolest.template.classes.galaxy.Galaxy object at 0x123d16820>,\n",
      "                      <coolest.template.classes.galaxy.Galaxy object at 0x123d169d0>,\n",
      "                      <coolest.template.classes.galaxy.Galaxy object at 0x123d168e0>],\n",
      " 'meta': {},\n",
      " 'mode': 'MAP',\n",
      " 'observation': <coolest.template.classes.observation.Observation object at 0x123d54e50>,\n",
      " 'standard': 'COOLEST'}\n"
     ]
    }
   ],
   "source": [
    "print(\"Content:\")\n",
    "pprint(vars(coolest_object))"
   ]
  },
  {
   "cell_type": "code",
   "execution_count": 14,
   "metadata": {},
   "outputs": [
    {
     "name": "stdout",
     "output_type": "stream",
     "text": [
      "Attributes of the lens model:\n",
      "[<coolest.template.classes.mass_field.MassField object at 0x123d16c10>,\n",
      " <coolest.template.classes.galaxy.Galaxy object at 0x123d16880>,\n",
      " <coolest.template.classes.galaxy.Galaxy object at 0x123d16820>,\n",
      " <coolest.template.classes.galaxy.Galaxy object at 0x123d169d0>,\n",
      " <coolest.template.classes.galaxy.Galaxy object at 0x123d168e0>]\n"
     ]
    }
   ],
   "source": [
    "lensing_entities = coolest_object.lensing_entities\n",
    "print(\"Attributes of the lens model:\")\n",
    "pprint(lensing_entities)"
   ]
  },
  {
   "cell_type": "code",
   "execution_count": 15,
   "metadata": {
    "scrolled": true
   },
   "outputs": [
    {
     "name": "stdout",
     "output_type": "stream",
     "text": [
      "Attributes of the first galaxy in the lens model:\n",
      "{'documentation': 'Class that defines a Galaxy entity (lens galaxy and/or '\n",
      "                  'source galaxy).\\n'\n",
      "                  '\\n'\n",
      "                  '    Parameters\\n'\n",
      "                  '    ----------\\n'\n",
      "                  '    name : str\\n'\n",
      "                  '        Name associated to the galaxy.\\n'\n",
      "                  '    redshift : float\\n'\n",
      "                  '        Redshift of the galaxy, if any.\\n'\n",
      "                  '    light_model : LightModel, optional\\n'\n",
      "                  '        Light model instance describing the surface '\n",
      "                  'brightness of the galaxy, by default None\\n'\n",
      "                  '    mass_model : MassModel, optional\\n'\n",
      "                  '        Mass model instance describing the mass '\n",
      "                  'distribution of the galaxy, by default None',\n",
      " 'light_model': [<coolest.template.classes.profiles.light.Sersic object at 0x11092ea90>,\n",
      "                 <coolest.template.classes.profiles.light.Sersic object at 0x11092e940>],\n",
      " 'mass_model': [<coolest.template.classes.profiles.mass.PEMD object at 0x123d16580>,\n",
      "                <coolest.template.classes.profiles.mass.PixelatedRegularGridPotential object at 0x123d16130>],\n",
      " 'name': 'a lens galaxy',\n",
      " 'redshift': 0.5,\n",
      " 'type': 'Galaxy'}\n"
     ]
    }
   ],
   "source": [
    "lens_galaxy = lensing_entities[1]\n",
    "print(\"Attributes of the first galaxy in the lens model:\")\n",
    "pprint(vars(lens_galaxy))"
   ]
  },
  {
   "cell_type": "code",
   "execution_count": 16,
   "metadata": {},
   "outputs": [
    {
     "name": "stdout",
     "output_type": "stream",
     "text": [
      "Attributes of its first mass profile:\n",
      "{'documentation': 'Power-law elliptical mass density profile, \\n'\n",
      "                  '    also called the Elliptical Power-law profile (EPL).\\n'\n",
      "                  '\\n'\n",
      "                  '    This profile is described by the following parameters:\\n'\n",
      "                  '\\n'\n",
      "                  \"    - 'gamma': logarithmic radial slope\\n\"\n",
      "                  \"    - 'theta_E': Einstein radius\\n\"\n",
      "                  \"    - 'q': axis ratio (semi-major axis / semi-minor axis)\\n\"\n",
      "                  \"    - 'phi': position angle\\n\"\n",
      "                  \"    - 'center_x': position along the x coordinate\\n\"\n",
      "                  \"    - 'center_y': position along the y coordinate\",\n",
      " 'id': '1-galaxy-mass-0-PEMD',\n",
      " 'parameters': {'center_x': <coolest.template.classes.parameter.NonLinearParameter object at 0x123d1c4f0>,\n",
      "                'center_y': <coolest.template.classes.parameter.NonLinearParameter object at 0x123d1c310>,\n",
      "                'gamma': <coolest.template.classes.parameter.NonLinearParameter object at 0x123d16eb0>,\n",
      "                'phi': <coolest.template.classes.parameter.NonLinearParameter object at 0x123d1c7c0>,\n",
      "                'q': <coolest.template.classes.parameter.NonLinearParameter object at 0x123d1ce50>,\n",
      "                'theta_E': <coolest.template.classes.parameter.NonLinearParameter object at 0x123d1ca60>},\n",
      " 'type': 'PEMD'}\n"
     ]
    }
   ],
   "source": [
    "lens_profile = lens_galaxy.mass_model[0]\n",
    "print(\"Attributes of its first mass profile:\")\n",
    "pprint(vars(lens_profile))"
   ]
  },
  {
   "cell_type": "markdown",
   "metadata": {},
   "source": [
    "### Add a prior on a given parameter"
   ]
  },
  {
   "cell_type": "code",
   "execution_count": 17,
   "metadata": {},
   "outputs": [],
   "source": [
    "# here we add a gaussian prior on the Einstein radius\n",
    "prior = GaussianPrior(mean=1.0, width=0.01)\n",
    "\n",
    "coolest_object.lensing_entities[1].mass_model[0].parameters['theta_E'].set_prior(prior)"
   ]
  },
  {
   "cell_type": "markdown",
   "metadata": {},
   "source": [
    "### Assign a point estimate to a given parameter"
   ]
  },
  {
   "cell_type": "code",
   "execution_count": 18,
   "metadata": {},
   "outputs": [],
   "source": [
    "# here we add a gaussian prior on the source effective radius\n",
    "estimate = PointEstimate(value=0.8)\n",
    "\n",
    "coolest_object.lensing_entities[2].light_model[0].parameters['theta_eff'].set_point_estimate(estimate)"
   ]
  },
  {
   "cell_type": "markdown",
   "metadata": {},
   "source": [
    "### Assign statistics about the posterior distribution of a parameter"
   ]
  },
  {
   "cell_type": "code",
   "execution_count": 19,
   "metadata": {},
   "outputs": [],
   "source": [
    "# here we add posterior statistics on the shear strength\n",
    "posterior \\\n",
    "    = PosteriorStatistics(mean=0.03, median=0.031, \n",
    "                          percentile_16th=0.02, percentile_84th=0.03)\n",
    "\n",
    "coolest_object.lensing_entities[0].mass_model[0].parameters['gamma_ext'].set_posterior(posterior)"
   ]
  },
  {
   "cell_type": "markdown",
   "metadata": {},
   "source": [
    "### Encode the updated classes as a new template"
   ]
  },
  {
   "cell_type": "code",
   "execution_count": 20,
   "metadata": {},
   "outputs": [],
   "source": [
    "encoder = JSONSerializer(os.path.join(os.getcwd(), TEMPLATE_DIR, 'updated_via_coolest'), \n",
    "                         obj=coolest_object, indent=2)\n",
    "\n",
    "# uncomment for dumping the content to the JSON file\n",
    "coolest_object_encoded = encoder.dump_simple()\n",
    "\n",
    "# Note: you can also update the original JSON template if you wish"
   ]
  },
  {
   "cell_type": "code",
   "execution_count": null,
   "metadata": {},
   "outputs": [],
   "source": []
  }
 ],
 "metadata": {
  "kernelspec": {
   "display_name": "Python 3 (ipykernel)",
   "language": "python",
   "name": "python3"
  },
  "language_info": {
   "codemirror_mode": {
    "name": "ipython",
    "version": 3
   },
   "file_extension": ".py",
   "mimetype": "text/x-python",
   "name": "python",
   "nbconvert_exporter": "python",
   "pygments_lexer": "ipython3",
   "version": "3.8.17"
  }
 },
 "nbformat": 4,
 "nbformat_minor": 2
}
