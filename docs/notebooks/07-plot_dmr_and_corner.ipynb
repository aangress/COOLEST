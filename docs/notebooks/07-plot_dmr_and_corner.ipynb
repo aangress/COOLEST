{
 "cells": [
  {
   "cell_type": "markdown",
   "id": "006a0677-1a75-4425-affe-80bc241780fc",
   "metadata": {},
   "source": [
    "# Quick DMR and Corner Plotting Function\n",
    "\n",
    "The following cells will make a DMR (data, model, residual) plot and a corner plot for your data. The function will also return some key information for your lensing system. Compress your COOLEST files into a .tar.gz file before using. An example COOLEST file is included (database/dmr_corner/coolest.tar.gz).\n",
    "\n",
    "If using a .tar.gz that does not contain a chains file, dmr_corner will not generate a corner plot."
   ]
  },
  {
   "cell_type": "code",
   "execution_count": null,
   "id": "8d4725a2-bc4c-43c3-a877-553bd2afc2f8",
   "metadata": {},
   "outputs": [],
   "source": [
    "from coolest.api import plot_util as plut"
   ]
  },
  {
   "cell_type": "code",
   "execution_count": null,
   "id": "96b34fbf-1540-4024-bd00-05816c51f950",
   "metadata": {
    "scrolled": true
   },
   "outputs": [],
   "source": [
    "plut.dmr_corner('database/dmr_corner/coolest.tar.gz', 'database/dmr_corner/outputs')"
   ]
  }
 ],
 "metadata": {
  "kernelspec": {
   "display_name": "Python [conda env:base] *",
   "language": "python",
   "name": "conda-base-py"
  },
  "language_info": {
   "codemirror_mode": {
    "name": "ipython",
    "version": 3
   },
   "file_extension": ".py",
   "mimetype": "text/x-python",
   "name": "python",
   "nbconvert_exporter": "python",
   "pygments_lexer": "ipython3",
   "version": "3.9.20"
  }
 },
 "nbformat": 4,
 "nbformat_minor": 5
}
