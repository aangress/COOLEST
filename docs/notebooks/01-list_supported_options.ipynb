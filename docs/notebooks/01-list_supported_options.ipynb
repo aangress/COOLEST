{
 "cells": [
  {
   "attachments": {},
   "cell_type": "markdown",
   "metadata": {},
   "source": [
    "# List all supported COOLEST types and profiles\n",
    "\n",
    "In this simple notebook we print out some useful information about the supported options of the `coolest.template` submodule.\n",
    "\n",
    "__author__: @aymgal\n",
    "\n",
    "__last update__: 01/06/23"
   ]
  },
  {
   "cell_type": "code",
   "execution_count": 1,
   "metadata": {},
   "outputs": [],
   "source": [
    "from coolest.template.classes.mass_light_model import MassModel, LightModel\n",
    "from coolest.template import info\n",
    "from coolest.template.json import JSONSerializer\n",
    "\n",
    "from pprint import pprint"
   ]
  },
  {
   "attachments": {},
   "cell_type": "markdown",
   "metadata": {},
   "source": [
    "## List of various component types\n",
    "\n",
    " The types always reflect the Python class name"
   ]
  },
  {
   "cell_type": "code",
   "execution_count": 2,
   "metadata": {},
   "outputs": [
    {
     "name": "stdout",
     "output_type": "stream",
     "text": [
      "{'lensing_entities': ['Galaxy', 'MassField'],\n",
      " 'light_profiles': ['Sersic',\n",
      "                    'Chameleon',\n",
      "                    'Uniform',\n",
      "                    'Shapelets',\n",
      "                    'LensedPS',\n",
      "                    'PixelatedRegularGrid',\n",
      "                    'IrregularGrid'],\n",
      " 'likelihoods': ['imaging_data',\n",
      "                 'time_delays',\n",
      "                 'magnification_ratios',\n",
      "                 'image_plane_position',\n",
      "                 'source_plane_position'],\n",
      " 'mass_profiles': ['SIE',\n",
      "                   'NIE',\n",
      "                   'PEMD',\n",
      "                   'SPEMD',\n",
      "                   'NFW',\n",
      "                   'Chameleon',\n",
      "                   'ExternalShear',\n",
      "                   'PixelatedRegularGridPotential'],\n",
      " 'modes': ['MOCK', 'MAP', 'DOC'],\n",
      " 'noise_types': ['NoiseMap',\n",
      "                 'NoiseRealization',\n",
      "                 'UniformGaussianNoise',\n",
      "                 'DrizzledNoise',\n",
      "                 'InstrumentalNoise'],\n",
      " 'prior_types': ['GaussianPrior', 'LogNormalPrior', 'UniformPrior'],\n",
      " 'psf_types': ['PixelatedPSF', 'GaussianPSF']}\n"
     ]
    }
   ],
   "source": [
    "pprint(info.all_supported_choices)"
   ]
  },
  {
   "attachments": {},
   "cell_type": "markdown",
   "metadata": {},
   "source": [
    "## List of support model profiles\n",
    "\n",
    "### Mass profiles in template submodule"
   ]
  },
  {
   "cell_type": "code",
   "execution_count": 3,
   "metadata": {},
   "outputs": [
    {
     "name": "stdout",
     "output_type": "stream",
     "text": [
      "[<coolest.template.classes.profiles.mass.SIE object at 0x119befb80>,\n",
      " <coolest.template.classes.profiles.mass.NIE object at 0x106375760>,\n",
      " <coolest.template.classes.profiles.mass.PEMD object at 0x119bfc640>,\n",
      " <coolest.template.classes.profiles.mass.SPEMD object at 0x119bf9100>,\n",
      " <coolest.template.classes.profiles.mass.NFW object at 0x119bf9d30>,\n",
      " <coolest.template.classes.profiles.mass.Chameleon object at 0x119bff7f0>,\n",
      " <coolest.template.classes.profiles.mass.ExternalShear object at 0x119c02460>,\n",
      " <coolest.template.classes.profiles.mass.PixelatedRegularGridPotential object at 0x119c02820>]\n"
     ]
    }
   ],
   "source": [
    "all_mass_profiles = MassModel(*info.all_supported_choices['mass_profiles'])\n",
    "pprint(all_mass_profiles)"
   ]
  },
  {
   "attachments": {},
   "cell_type": "markdown",
   "metadata": {},
   "source": [
    "### Light profiles in template submodule"
   ]
  },
  {
   "cell_type": "code",
   "execution_count": 4,
   "metadata": {},
   "outputs": [
    {
     "name": "stdout",
     "output_type": "stream",
     "text": [
      "[<coolest.template.classes.profiles.light.Sersic object at 0x119c02eb0>,\n",
      " <coolest.template.classes.profiles.light.Chameleon object at 0x119c08580>,\n",
      " <coolest.template.classes.profiles.light.Uniform object at 0x119c0a1f0>,\n",
      " <coolest.template.classes.profiles.light.Shapelets object at 0x119c0a400>,\n",
      " <coolest.template.classes.profiles.light.LensedPS object at 0x119c0abb0>,\n",
      " <coolest.template.classes.profiles.light.PixelatedRegularGrid object at 0x119c0e160>,\n",
      " <coolest.template.classes.profiles.light.IrregularGrid object at 0x119c0e370>]\n"
     ]
    }
   ],
   "source": [
    "\n",
    "all_light_profiles = LightModel(*info.all_supported_choices['light_profiles'])\n",
    "pprint(all_light_profiles)"
   ]
  },
  {
   "cell_type": "code",
   "execution_count": null,
   "metadata": {},
   "outputs": [],
   "source": []
  }
 ],
 "metadata": {
  "kernelspec": {
   "display_name": "py39jaxconda",
   "language": "python",
   "name": "py39jaxconda"
  },
  "language_info": {
   "codemirror_mode": {
    "name": "ipython",
    "version": 3
   },
   "file_extension": ".py",
   "mimetype": "text/x-python",
   "name": "python",
   "nbconvert_exporter": "python",
   "pygments_lexer": "ipython3",
   "version": "3.9.16"
  },
  "orig_nbformat": 4
 },
 "nbformat": 4,
 "nbformat_minor": 2
}
