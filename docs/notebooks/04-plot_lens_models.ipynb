{
 "cells": [
  {
   "cell_type": "markdown",
   "id": "1a14f34a",
   "metadata": {},
   "source": [
    "# Side-to-side model comparison plots\n",
    "\n",
    "This notebook shows an example of lens model comparison side-to-side featuring very different source modeling strategies, using the `Plotter` classes. It also shows how to use the `Analysis` class to compute effective quantities in a model-independent way.\n",
    "\n",
    "_Note: this notebook was used to produce the figure in the [JOSS paper](../../joss/paper.md)._\n",
    "\n",
    "__authors__: @aymgal\n",
    "\n",
    "__created on__: 27/04/23\n",
    "\n",
    "__last update__: 19/07/23"
   ]
  },
  {
   "cell_type": "code",
   "execution_count": 1,
   "id": "4808304a",
   "metadata": {},
   "outputs": [],
   "source": [
    "%config InlineBackend.figure_format = 'retina'\n",
    "\n",
    "import os\n",
    "import time\n",
    "import glob\n",
    "import numpy as np\n",
    "import matplotlib.pyplot as plt\n",
    "from matplotlib.colors import Normalize, LogNorm, TwoSlopeNorm\n",
    "from pprint import pprint\n",
    "\n",
    "from coolest.api.analysis import Analysis\n",
    "from coolest.api.plotting import ModelPlotter, MultiModelPlotter\n",
    "from coolest.api import util"
   ]
  },
  {
   "cell_type": "code",
   "execution_count": 2,
   "id": "36e85633",
   "metadata": {},
   "outputs": [],
   "source": [
    "def print_info(coolest_object):\n",
    "    source_index = 2  # index of the source galaxy in the list of `lensing entities`\n",
    "    print(\"Lensing entities:\", [type(le).__name__ for le in coolest_object.lensing_entities])\n",
    "    print(\"Source light model:\", [type(m).__name__ for m in coolest_object.lensing_entities[source_index].light_model])"
   ]
  },
  {
   "cell_type": "markdown",
   "id": "1106d6cc",
   "metadata": {},
   "source": [
    "## Load the lens models stored in COOLEST format"
   ]
  },
  {
   "cell_type": "markdown",
   "id": "e7727434",
   "metadata": {},
   "source": [
    "### Code n°1, based on an analytical source model"
   ]
  },
  {
   "cell_type": "code",
   "execution_count": 3,
   "id": "918f46ab",
   "metadata": {},
   "outputs": [
    {
     "name": "stdout",
     "output_type": "stream",
     "text": [
      "Lensing entities: ['MassField', 'Galaxy', 'Galaxy']\n",
      "Source light model: ['Sersic', 'Shapelets']\n"
     ]
    }
   ],
   "source": [
    "code_1_path = 'database/code_1/coolest_code_1'\n",
    "coolest_1 = util.get_coolest_object(code_1_path, verbose=False)\n",
    "print_info(coolest_1)"
   ]
  },
  {
   "cell_type": "markdown",
   "id": "31a6ff1e",
   "metadata": {},
   "source": [
    "### Code n°2, based on pixelated source model on a regular grid"
   ]
  },
  {
   "cell_type": "code",
   "execution_count": 4,
   "id": "9465b667",
   "metadata": {},
   "outputs": [
    {
     "name": "stdout",
     "output_type": "stream",
     "text": [
      "/home/giorgos/myCodes/COOLEST/docs/notebooks/database/code_2/model-source-coolest.fits\n",
      "/home/giorgos/myCodes/COOLEST/docs/notebooks/database/code_2/obs-isoTrue-pix.fits\n",
      "/home/giorgos/myCodes/COOLEST/docs/notebooks/database/code_2/noise_map-isoTrue-pix.fits\n",
      "/home/giorgos/myCodes/COOLEST/docs/notebooks/database/code_2/psf-isoTrue-pix.fits\n",
      "Lensing entities: ['MassField', 'Galaxy', 'Galaxy']\n",
      "Source light model: ['PixelatedRegularGrid']\n"
     ]
    }
   ],
   "source": [
    "code_2_path = 'database/code_2/coolest_code_2'\n",
    "coolest_2 = util.get_coolest_object(code_2_path, verbose=False)\n",
    "print_info(coolest_2)"
   ]
  },
  {
   "cell_type": "markdown",
   "id": "c8b2eff6",
   "metadata": {},
   "source": [
    "### Code n°3, based on pixelated source model on an irregular grid"
   ]
  },
  {
   "cell_type": "code",
   "execution_count": 5,
   "id": "d7ccf6ff",
   "metadata": {
    "scrolled": false
   },
   "outputs": [
    {
     "name": "stdout",
     "output_type": "stream",
     "text": [
      "/home/giorgos/myCodes/COOLEST/docs/notebooks/database/code_3/irregular_source.fits\n",
      "/home/giorgos/myCodes/COOLEST/docs/notebooks/database/code_3/obs-isoTrue-pix.fits\n",
      "/home/giorgos/myCodes/COOLEST/docs/notebooks/database/code_3/noise_map-isoTrue-pix.fits\n",
      "/home/giorgos/myCodes/COOLEST/docs/notebooks/database/code_3/psf-isoTrue-pix.fits\n",
      "Lensing entities: ['MassField', 'Galaxy', 'Galaxy']\n",
      "Source light model: ['IrregularGrid']\n"
     ]
    }
   ],
   "source": [
    "code_3_path = 'database/code_3/coolest_code_3'\n",
    "coolest_3 = util.get_coolest_object(code_3_path, verbose=False)\n",
    "print_info(coolest_3)"
   ]
  },
  {
   "cell_type": "markdown",
   "id": "09222291",
   "metadata": {},
   "source": [
    "## Setup a custom coordinates\n",
    "\n",
    "so that we can evaluate light profiles consistently on that specific coordinates grid. "
   ]
  },
  {
   "cell_type": "code",
   "execution_count": 6,
   "id": "39e05eaf",
   "metadata": {},
   "outputs": [
    {
     "name": "stdout",
     "output_type": "stream",
     "text": [
      "[-3.4000000000000004, 3.3999999999999995, -3.4000000000000004, 3.3999999999999995]\n",
      "[-0.7150000000000003, 0.7049999999999996, -0.7150000000000004, 0.7049999999999995]\n"
     ]
    }
   ],
   "source": [
    "coord_orig = util.get_coordinates(coolest_1)\n",
    "x_orig, y_orig = coord_orig.pixel_coordinates\n",
    "print(coord_orig.plt_extent)\n",
    "\n",
    "coord_src = coord_orig.create_new_coordinates(pixel_scale_factor=0.1, grid_shape=(1.42, 1.42))\n",
    "x_src, y_src = coord_src.pixel_coordinates\n",
    "print(coord_src.plt_extent)"
   ]
  },
  {
   "cell_type": "markdown",
   "id": "d8945179",
   "metadata": {},
   "source": [
    "## Compute effective quantities"
   ]
  },
  {
   "cell_type": "code",
   "execution_count": 7,
   "id": "78bdb86a",
   "metadata": {},
   "outputs": [],
   "source": [
    "analysis_1 = Analysis(coolest_1, code_1_path, supersampling=5)\n",
    "analysis_2 = Analysis(coolest_2, code_2_path, supersampling=5)\n",
    "analysis_3 = Analysis(coolest_3, code_3_path, supersampling=5)"
   ]
  },
  {
   "cell_type": "markdown",
   "id": "b59e0074",
   "metadata": {},
   "source": [
    "### Effective radius of the source surface brigtness"
   ]
  },
  {
   "cell_type": "code",
   "execution_count": 8,
   "id": "7a6fa374",
   "metadata": {},
   "outputs": [
    {
     "ename": "ModuleNotFoundError",
     "evalue": "No module named 'lenstronomy'",
     "output_type": "error",
     "traceback": [
      "\u001b[0;31m---------------------------------------------------------------------------\u001b[0m",
      "\u001b[0;31mModuleNotFoundError\u001b[0m                       Traceback (most recent call last)",
      "Cell \u001b[0;32mIn[8], line 1\u001b[0m\n\u001b[0;32m----> 1\u001b[0m r_eff_src_1 \u001b[38;5;241m=\u001b[39m \u001b[43manalysis_1\u001b[49m\u001b[38;5;241;43m.\u001b[39;49m\u001b[43meffective_radius_light\u001b[49m\u001b[43m(\u001b[49m\u001b[43mcenter\u001b[49m\u001b[38;5;241;43m=\u001b[39;49m\u001b[43m(\u001b[49m\u001b[38;5;241;43m0\u001b[39;49m\u001b[43m,\u001b[49m\u001b[43m \u001b[49m\u001b[38;5;241;43m0\u001b[39;49m\u001b[43m)\u001b[49m\u001b[43m,\u001b[49m\u001b[43m \u001b[49m\u001b[43mcoordinates\u001b[49m\u001b[38;5;241;43m=\u001b[39;49m\u001b[43mcoord_src\u001b[49m\u001b[43m,\u001b[49m\u001b[43m \u001b[49m\n\u001b[1;32m      2\u001b[0m \u001b[43m                                                \u001b[49m\u001b[43mouter_radius\u001b[49m\u001b[38;5;241;43m=\u001b[39;49m\u001b[38;5;241;43m1.\u001b[39;49m\u001b[43m,\u001b[49m\u001b[43m \u001b[49m\u001b[43mentity_selection\u001b[49m\u001b[38;5;241;43m=\u001b[39;49m\u001b[43m[\u001b[49m\u001b[38;5;241;43m2\u001b[39;49m\u001b[43m]\u001b[49m\u001b[43m)\u001b[49m\n\u001b[1;32m      3\u001b[0m \u001b[38;5;28mprint\u001b[39m(r_eff_src_1)\n\u001b[1;32m      5\u001b[0m r_eff_src_2 \u001b[38;5;241m=\u001b[39m analysis_2\u001b[38;5;241m.\u001b[39meffective_radius_light(center\u001b[38;5;241m=\u001b[39m(\u001b[38;5;241m0\u001b[39m, \u001b[38;5;241m0\u001b[39m), coordinates\u001b[38;5;241m=\u001b[39mcoord_src, \n\u001b[1;32m      6\u001b[0m                                                 outer_radius\u001b[38;5;241m=\u001b[39m\u001b[38;5;241m1.\u001b[39m, entity_selection\u001b[38;5;241m=\u001b[39m[\u001b[38;5;241m2\u001b[39m])\n",
      "File \u001b[0;32m~/anaconda3/envs/coolest-env/lib/python3.10/site-packages/coolest-0.0.1-py3.10.egg/coolest/api/analysis.py:332\u001b[0m, in \u001b[0;36mAnalysis.effective_radius_light\u001b[0;34m(self, outer_radius, center, coordinates, initial_guess, initial_delta_pix, n_iter, **kwargs_selection)\u001b[0m\n\u001b[1;32m    330\u001b[0m \u001b[38;5;28;01mif\u001b[39;00m kwargs_selection \u001b[38;5;129;01mis\u001b[39;00m \u001b[38;5;28;01mNone\u001b[39;00m:\n\u001b[1;32m    331\u001b[0m     kwargs_selection \u001b[38;5;241m=\u001b[39m {}\n\u001b[0;32m--> 332\u001b[0m light_model \u001b[38;5;241m=\u001b[39m \u001b[43mComposableLightModel\u001b[49m\u001b[43m(\u001b[49m\u001b[38;5;28;43mself\u001b[39;49m\u001b[38;5;241;43m.\u001b[39;49m\u001b[43mcoolest\u001b[49m\u001b[43m,\u001b[49m\u001b[43m \u001b[49m\u001b[38;5;28;43mself\u001b[39;49m\u001b[38;5;241;43m.\u001b[39;49m\u001b[43mcoolest_dir\u001b[49m\u001b[43m,\u001b[49m\u001b[43m \u001b[49m\u001b[38;5;241;43m*\u001b[39;49m\u001b[38;5;241;43m*\u001b[39;49m\u001b[43mkwargs_selection\u001b[49m\u001b[43m)\u001b[49m\n\u001b[1;32m    333\u001b[0m \u001b[38;5;66;03m# get an image of the convergence\u001b[39;00m\n\u001b[1;32m    334\u001b[0m \u001b[38;5;28;01mif\u001b[39;00m coordinates \u001b[38;5;129;01mis\u001b[39;00m \u001b[38;5;28;01mNone\u001b[39;00m:\n",
      "File \u001b[0;32m~/anaconda3/envs/coolest-env/lib/python3.10/site-packages/coolest-0.0.1-py3.10.egg/coolest/api/composable_models.py:185\u001b[0m, in \u001b[0;36mComposableLightModel.__init__\u001b[0;34m(self, coolest_object, coolest_directory, **kwargs_selection)\u001b[0m\n\u001b[1;32m    184\u001b[0m \u001b[38;5;28;01mdef\u001b[39;00m \u001b[38;5;21m__init__\u001b[39m(\u001b[38;5;28mself\u001b[39m, coolest_object, coolest_directory\u001b[38;5;241m=\u001b[39m\u001b[38;5;28;01mNone\u001b[39;00m, \u001b[38;5;241m*\u001b[39m\u001b[38;5;241m*\u001b[39mkwargs_selection):\n\u001b[0;32m--> 185\u001b[0m     \u001b[38;5;28;43msuper\u001b[39;49m\u001b[43m(\u001b[49m\u001b[43m)\u001b[49m\u001b[38;5;241;43m.\u001b[39;49m\u001b[38;5;21;43m__init__\u001b[39;49m\u001b[43m(\u001b[49m\u001b[38;5;124;43m'\u001b[39;49m\u001b[38;5;124;43mlight_model\u001b[39;49m\u001b[38;5;124;43m'\u001b[39;49m\u001b[43m,\u001b[49m\u001b[43m \u001b[49m\u001b[43mcoolest_object\u001b[49m\u001b[43m,\u001b[49m\u001b[43m \u001b[49m\n\u001b[1;32m    186\u001b[0m \u001b[43m                     \u001b[49m\u001b[43mcoolest_directory\u001b[49m\u001b[38;5;241;43m=\u001b[39;49m\u001b[43mcoolest_directory\u001b[49m\u001b[43m,\u001b[49m\n\u001b[1;32m    187\u001b[0m \u001b[43m                     \u001b[49m\u001b[38;5;241;43m*\u001b[39;49m\u001b[38;5;241;43m*\u001b[39;49m\u001b[43mkwargs_selection\u001b[49m\u001b[43m)\u001b[49m\n\u001b[1;32m    188\u001b[0m     pixel_size \u001b[38;5;241m=\u001b[39m coolest_object\u001b[38;5;241m.\u001b[39minstrument\u001b[38;5;241m.\u001b[39mpixel_size\n\u001b[1;32m    189\u001b[0m     \u001b[38;5;28;01mif\u001b[39;00m pixel_size \u001b[38;5;129;01mis\u001b[39;00m \u001b[38;5;28;01mNone\u001b[39;00m:\n",
      "File \u001b[0;32m~/anaconda3/envs/coolest-env/lib/python3.10/site-packages/coolest-0.0.1-py3.10.egg/coolest/api/composable_models.py:67\u001b[0m, in \u001b[0;36mBaseComposableModel.__init__\u001b[0;34m(self, model_type, coolest_object, coolest_directory, entity_selection, profile_selection)\u001b[0m\n\u001b[1;32m     64\u001b[0m entities \u001b[38;5;241m=\u001b[39m coolest_object\u001b[38;5;241m.\u001b[39mlensing_entities\n\u001b[1;32m     65\u001b[0m \u001b[38;5;28mself\u001b[39m\u001b[38;5;241m.\u001b[39mdirectory \u001b[38;5;241m=\u001b[39m coolest_directory\n\u001b[1;32m     66\u001b[0m \u001b[38;5;28mself\u001b[39m\u001b[38;5;241m.\u001b[39mprofile_list, \u001b[38;5;28mself\u001b[39m\u001b[38;5;241m.\u001b[39mparam_list, \u001b[38;5;28mself\u001b[39m\u001b[38;5;241m.\u001b[39minfo_list \\\n\u001b[0;32m---> 67\u001b[0m     \u001b[38;5;241m=\u001b[39m \u001b[38;5;28;43mself\u001b[39;49m\u001b[38;5;241;43m.\u001b[39;49m\u001b[43mselect_profiles\u001b[49m\u001b[43m(\u001b[49m\u001b[43mmodel_type\u001b[49m\u001b[43m,\u001b[49m\u001b[43m \u001b[49m\u001b[43mentities\u001b[49m\u001b[43m,\u001b[49m\u001b[43m \u001b[49m\n\u001b[1;32m     68\u001b[0m \u001b[43m                           \u001b[49m\u001b[43mentity_selection\u001b[49m\u001b[43m,\u001b[49m\u001b[43m \u001b[49m\u001b[43mprofile_selection\u001b[49m\u001b[43m,\u001b[49m\n\u001b[1;32m     69\u001b[0m \u001b[43m                           \u001b[49m\u001b[43mcoolest_directory\u001b[49m\u001b[43m)\u001b[49m\n\u001b[1;32m     70\u001b[0m \u001b[38;5;28mself\u001b[39m\u001b[38;5;241m.\u001b[39mnum_profiles \u001b[38;5;241m=\u001b[39m \u001b[38;5;28mlen\u001b[39m(\u001b[38;5;28mself\u001b[39m\u001b[38;5;241m.\u001b[39mprofile_list)\n\u001b[1;32m     71\u001b[0m \u001b[38;5;28;01mif\u001b[39;00m \u001b[38;5;28mself\u001b[39m\u001b[38;5;241m.\u001b[39mnum_profiles \u001b[38;5;241m==\u001b[39m \u001b[38;5;241m0\u001b[39m:\n",
      "File \u001b[0;32m~/anaconda3/envs/coolest-env/lib/python3.10/site-packages/coolest-0.0.1-py3.10.egg/coolest/api/composable_models.py:94\u001b[0m, in \u001b[0;36mBaseComposableModel.select_profiles\u001b[0;34m(self, model_type, entities, entity_selection, profile_selection, coolest_directory)\u001b[0m\n\u001b[1;32m     92\u001b[0m     param_list\u001b[38;5;241m.\u001b[39mappend(params)\n\u001b[1;32m     93\u001b[0m \u001b[38;5;28;01melse\u001b[39;00m:\n\u001b[0;32m---> 94\u001b[0m     profile_list\u001b[38;5;241m.\u001b[39mappend(\u001b[38;5;28;43mself\u001b[39;49m\u001b[38;5;241;43m.\u001b[39;49m\u001b[43m_get_api_profile\u001b[49m\u001b[43m(\u001b[49m\u001b[43mmodel_type\u001b[49m\u001b[43m,\u001b[49m\u001b[43m \u001b[49m\u001b[43mprofile\u001b[49m\u001b[43m)\u001b[49m)\n\u001b[1;32m     95\u001b[0m     param_list\u001b[38;5;241m.\u001b[39mappend(\u001b[38;5;28mself\u001b[39m\u001b[38;5;241m.\u001b[39m_get_point_estimates(profile))\n\u001b[1;32m     96\u001b[0m info_list\u001b[38;5;241m.\u001b[39mappend((entity\u001b[38;5;241m.\u001b[39mname, entity\u001b[38;5;241m.\u001b[39mredshift))\n",
      "File \u001b[0;32m~/anaconda3/envs/coolest-env/lib/python3.10/site-packages/coolest-0.0.1-py3.10.egg/coolest/api/composable_models.py:121\u001b[0m, in \u001b[0;36mBaseComposableModel._get_api_profile\u001b[0;34m(model_type, profile_in, *args)\u001b[0m\n\u001b[1;32m    119\u001b[0m     \u001b[38;5;28;01mfrom\u001b[39;00m \u001b[38;5;21;01mcoolest\u001b[39;00m\u001b[38;5;21;01m.\u001b[39;00m\u001b[38;5;21;01mapi\u001b[39;00m\u001b[38;5;21;01m.\u001b[39;00m\u001b[38;5;21;01mprofiles\u001b[39;00m \u001b[38;5;28;01mimport\u001b[39;00m mass\n\u001b[1;32m    120\u001b[0m     ProfileClass \u001b[38;5;241m=\u001b[39m \u001b[38;5;28mgetattr\u001b[39m(mass, profile_in\u001b[38;5;241m.\u001b[39mtype)\n\u001b[0;32m--> 121\u001b[0m \u001b[38;5;28;01mreturn\u001b[39;00m \u001b[43mProfileClass\u001b[49m\u001b[43m(\u001b[49m\u001b[38;5;241;43m*\u001b[39;49m\u001b[43margs\u001b[49m\u001b[43m)\u001b[49m\n",
      "File \u001b[0;32m~/anaconda3/envs/coolest-env/lib/python3.10/site-packages/coolest-0.0.1-py3.10.egg/coolest/api/profiles/light.py:85\u001b[0m, in \u001b[0;36mShapelets.__init__\u001b[0;34m(self)\u001b[0m\n\u001b[1;32m     84\u001b[0m \u001b[38;5;28;01mdef\u001b[39;00m \u001b[38;5;21m__init__\u001b[39m(\u001b[38;5;28mself\u001b[39m):\n\u001b[0;32m---> 85\u001b[0m     \u001b[38;5;28;01mfrom\u001b[39;00m \u001b[38;5;21;01mlenstronomy\u001b[39;00m\u001b[38;5;21;01m.\u001b[39;00m\u001b[38;5;21;01mLightModel\u001b[39;00m\u001b[38;5;21;01m.\u001b[39;00m\u001b[38;5;21;01mProfiles\u001b[39;00m\u001b[38;5;21;01m.\u001b[39;00m\u001b[38;5;21;01mshapelets\u001b[39;00m \u001b[38;5;28;01mimport\u001b[39;00m ShapeletSet\n\u001b[1;32m     86\u001b[0m     \u001b[38;5;28mself\u001b[39m\u001b[38;5;241m.\u001b[39m_backend \u001b[38;5;241m=\u001b[39m ShapeletSet()\n",
      "\u001b[0;31mModuleNotFoundError\u001b[0m: No module named 'lenstronomy'"
     ]
    }
   ],
   "source": [
    "r_eff_src_1 = analysis_1.effective_radius_light(center=(0, 0), coordinates=coord_src, \n",
    "                                                outer_radius=1., entity_selection=[2])\n",
    "print(r_eff_src_1)\n",
    "\n",
    "r_eff_src_2 = analysis_2.effective_radius_light(center=(0, 0), coordinates=coord_src, \n",
    "                                                outer_radius=1., entity_selection=[2])\n",
    "print(r_eff_src_2)\n",
    "\n",
    "r_eff_src_3 = analysis_3.effective_radius_light(center=(0, 0), coordinates=coord_src, \n",
    "                                                outer_radius=1., entity_selection=[2])\n",
    "print(r_eff_src_3)"
   ]
  },
  {
   "cell_type": "markdown",
   "id": "7bb72250",
   "metadata": {},
   "source": [
    "### Effective Einstein radius"
   ]
  },
  {
   "cell_type": "code",
   "execution_count": null,
   "id": "0540b64c",
   "metadata": {},
   "outputs": [],
   "source": [
    "theta_E_1 = analysis_1.effective_einstein_radius(entity_selection=[0, 1])\n",
    "print(theta_E_1)\n",
    "\n",
    "theta_E_2 = analysis_2.effective_einstein_radius(entity_selection=[0, 1])\n",
    "print(theta_E_2)\n",
    "\n",
    "theta_E_3 = analysis_3.effective_einstein_radius(entity_selection=[0, 1])\n",
    "print(theta_E_3)"
   ]
  },
  {
   "cell_type": "markdown",
   "id": "6bf3b797",
   "metadata": {},
   "source": [
    "## Generate the comparison figure"
   ]
  },
  {
   "cell_type": "markdown",
   "id": "5604ef50",
   "metadata": {},
   "source": [
    "### Instantiate the plotter engines"
   ]
  },
  {
   "cell_type": "code",
   "execution_count": null,
   "id": "dc2b66e2",
   "metadata": {},
   "outputs": [],
   "source": [
    "#x_src, y_src = np.meshgrid(np.linspace(-1, 1, 20), np.linspace(-1, 1, 20))\n",
    "\n",
    "# initialize the Plotters\n",
    "mplotter = MultiModelPlotter(\n",
    "    [coolest_1, coolest_2, coolest_3],\n",
    "    coolest_directories=[\n",
    "        os.path.dirname(code_1_path), \n",
    "        os.path.dirname(code_2_path), \n",
    "        os.path.dirname(code_3_path)\n",
    "    ]\n",
    ")\n",
    "splotter_2 = ModelPlotter(coolest_2, coolest_directory=os.path.dirname(code_2_path))\n",
    "splotter_3 = ModelPlotter(coolest_3, coolest_directory=os.path.dirname(code_3_path))"
   ]
  },
  {
   "cell_type": "markdown",
   "id": "4045dbbd",
   "metadata": {},
   "source": [
    "### Select what to plot on which axes, and show final plot"
   ]
  },
  {
   "cell_type": "code",
   "execution_count": null,
   "id": "20c89ddf",
   "metadata": {
    "scrolled": false
   },
   "outputs": [],
   "source": [
    "norm = Normalize(-0.005, 0.05) # LogNorm(2e-3, 5e-2)\n",
    "\n",
    "# create the figure\n",
    "fig, axes = plt.subplots(2, 4, figsize=(14, 5.5))\n",
    "\n",
    "# multi-plotter panels\n",
    "mplotter.plot_data_image(\n",
    "    [axes[0, 0], None, None],\n",
    "    titles=[\"Observed data\", None, None],\n",
    "    norm=norm\n",
    ")\n",
    "mplotter.plot_model_image(\n",
    "    [axes[0, 1], axes[0, 2], axes[0, 3]],\n",
    "    titles=[\"Image model 1\", \"Image model 2\", \"Image model 3\"],\n",
    "    supersampling=5, convolved=True,\n",
    "    kwargs_source=dict(entity_selection=[[2], [2], [2]]),\n",
    "    kwargs_lens_mass=dict(entity_selection=[[0, 1], [0, 1], [0, 1]]),\n",
    "    norm=norm\n",
    ")\n",
    "axes[0, 1].text(0.05, 0.05, r'$\\theta_{\\rm E}$ = '+f'{theta_E_1:.2f}\"', color='white', fontsize=12, alpha=0.8, \n",
    "                va='bottom', ha='left', transform=axes[0, 1].transAxes)\n",
    "axes[0, 2].text(0.05, 0.05, r'$\\theta_{\\rm E}$ = '+f'{theta_E_2:.2f}\"', color='white', fontsize=12, alpha=0.8, \n",
    "                va='bottom', ha='left', transform=axes[0, 2].transAxes)\n",
    "axes[0, 3].text(0.05, 0.05, r'$\\theta_{\\rm E}$ = '+f'{theta_E_3:.2f}\"', color='white', fontsize=12, alpha=0.8, \n",
    "                va='bottom', ha='left', transform=axes[0, 3].transAxes)\n",
    "mplotter.plot_model_residuals(\n",
    "    [axes[1, 0], None, None],\n",
    "    titles=[\"Normalized residuals\", None, None],\n",
    "    supersampling=5, add_chi2_label=True, chi2_fontsize=12,\n",
    "    kwargs_source=dict(entity_selection=[[2], [2], [2]]),\n",
    "    kwargs_lens_mass=dict(entity_selection=[[0, 1], [0, 1], [0, 1]]),\n",
    ")\n",
    "res = mplotter.plot_surface_brightness(\n",
    "    [axes[1, 1], None, None], \n",
    "    titles=[\n",
    "        \"Source model 1\", \n",
    "        # \"Model 2\\nUnlensed source (interpolated)\", \n",
    "        None,\n",
    "        None, #\"Model 3: source model\", \n",
    "    ],\n",
    "    kwargs_light=dict(entity_selection=[[2], [2], [2]]),\n",
    "    norm=norm,\n",
    "    neg_values_as_bad=False,\n",
    "    coordinates=coord_src,\n",
    ")\n",
    "axes[1, 1].text(0.05, 0.05, r'$\\theta_{\\rm eff}$ = '+f'{r_eff_src_1:.2f}\"', color='white', fontsize=12, alpha=0.8, \n",
    "                va='bottom', ha='left', transform=axes[1, 1].transAxes)\n",
    "\n",
    "# single-plotter panels\n",
    "splotter_2.plot_surface_brightness(\n",
    "    axes[1, 2], \n",
    "    title=\"Source model 2\",\n",
    "    kwargs_light=dict(entity_selection=[2]),\n",
    "    norm=norm,\n",
    "    neg_values_as_bad=False,\n",
    ")\n",
    "axes[1, 2].text(0.05, 0.05, r'$\\theta_{\\rm eff}$ = '+f'{r_eff_src_2:.2f}\"', color='white', fontsize=12, alpha=0.8, \n",
    "                va='bottom', ha='left', transform=axes[1, 2].transAxes)\n",
    "splotter_3.plot_surface_brightness(\n",
    "    axes[1, 3], \n",
    "    title=\"Source model 3\",\n",
    "    kwargs_light=dict(entity_selection=[2]),\n",
    "    norm=norm,\n",
    "    neg_values_as_bad=False,\n",
    ")\n",
    "axes[1, 3].text(0.05, 0.05, r'$\\theta_{\\rm eff}$ = '+f'{r_eff_src_3:.2f}\"', color='white', fontsize=12, alpha=0.8, \n",
    "                va='bottom', ha='left', transform=axes[1, 3].transAxes)\n",
    "\n",
    "\n",
    "axes[1, 0].set_xlabel(r\"$x$ (arcsec)\")\n",
    "axes[1, 0].set_ylabel(r\"$y$ (arcsec)\")\n",
    "\n",
    "fig.tight_layout()\n",
    "# fig.subplots_adjust(\n",
    "#     wspace=0.02,\n",
    "#     #hspace=0.15,\n",
    "# )\n",
    "plt.show()"
   ]
  },
  {
   "cell_type": "code",
   "execution_count": null,
   "id": "cc4109b9",
   "metadata": {},
   "outputs": [],
   "source": [
    "# uncomment to save figure for the JOSS paper\n",
    "# fig.savefig(\"../../joss/coolest_plot_example.png\", dpi=150, bbox_inches='tight')"
   ]
  }
 ],
 "metadata": {
  "kernelspec": {
   "display_name": "Python 3 (ipykernel)",
   "language": "python",
   "name": "python3"
  },
  "language_info": {
   "codemirror_mode": {
    "name": "ipython",
    "version": 3
   },
   "file_extension": ".py",
   "mimetype": "text/x-python",
   "name": "python",
   "nbconvert_exporter": "python",
   "pygments_lexer": "ipython3",
   "version": "3.8.8"
  }
 },
 "nbformat": 4,
 "nbformat_minor": 5
}
