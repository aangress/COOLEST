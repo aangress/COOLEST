{
 "cells": [
  {
   "attachments": {},
   "cell_type": "markdown",
   "metadata": {},
   "source": [
    "# Generate a COOLEST template file"
   ]
  },
  {
   "cell_type": "code",
   "execution_count": 16,
   "metadata": {},
   "outputs": [],
   "source": [
    "import os\n",
    "\n",
    "from coolest.template.lazy import *\n",
    "from coolest.template import info\n",
    "from coolest.template.standard import COOLEST\n",
    "from coolest.template.json import JSONSerializer\n",
    "\n",
    "from pprint import pprint"
   ]
  },
  {
   "cell_type": "code",
   "execution_count": 17,
   "metadata": {},
   "outputs": [],
   "source": [
    "TEMPLATE_NAME = 'pemd_sersic'\n",
    "TEMPLATE_DIR = '.'"
   ]
  },
  {
   "cell_type": "code",
   "execution_count": 18,
   "metadata": {},
   "outputs": [],
   "source": [
    "# Setup cosmology\n",
    "cosmology = Cosmology(H0=73.0, Om0=0.3)\n",
    "\n",
    "# Create a couple of source galaxies at different redshifts\n",
    "source_1 = Galaxy('a source galaxy', 2.0,\n",
    "                    light_model=LightModel('Sersic'))\n",
    "\n",
    "# Create a lens galaxy\n",
    "lens_1 = Galaxy('a lens galaxy', 0.5,\n",
    "                light_model=LightModel('Sersic'),\n",
    "                mass_model=MassModel('PEMD'))\n",
    "\n",
    "# Set some values to the lens mass parameters\n",
    "lens_1.mass_model[0].parameters['theta_E'].set_point_estimate(1.27)\n",
    "lens_1.mass_model[0].parameters['center_x'].set_point_estimate(0.1)\n",
    "lens_1.mass_model[0].parameters['center_y'].set_point_estimate(-0.05)\n",
    "lens_1.mass_model[0].parameters['gamma'].set_point_estimate(2.035)\n",
    "lens_1.mass_model[0].parameters['phi'].set_point_estimate(32.)\n",
    "lens_1.mass_model[0].parameters['q'].set_point_estimate(1.)\n",
    "\n",
    "# Set some values to the source light parameters\n",
    "source_1.light_model[0].parameters['theta_eff'].set_point_estimate(0.23)\n",
    "source_1.light_model[0].parameters['center_x'].set_point_estimate(0.05)\n",
    "source_1.light_model[0].parameters['center_y'].set_point_estimate(-0.1)\n",
    "source_1.light_model[0].parameters['n'].set_point_estimate(2.3)\n",
    "source_1.light_model[0].parameters['I_eff'].set_point_estimate(1.)\n",
    "source_1.light_model[0].parameters['phi'].set_point_estimate(72.)\n",
    "source_1.light_model[0].parameters['q'].set_point_estimate(1.)\n",
    "\n",
    "# Put them in a list, which will also create unique IDs for each profile\n",
    "entity_list = LensingEntityList(lens_1, source_1)\n",
    "\n",
    "# Define the origin of the coordinates system\n",
    "origin = CoordinatesOrigin()\n",
    "\n",
    "# Provide data file\n",
    "obs_pixels = PixelatedRegularGrid(field_of_view_x=(-3., 3.),\n",
    "                                  field_of_view_y=(-3., 3.),\n",
    "                                  num_pix_x=100, num_pix_y=100)\n",
    "\n",
    "# Select the type of noise\n",
    "from coolest.template.classes.noise import UniformGaussianNoise\n",
    "noise = UniformGaussianNoise(std_dev=0.004)\n",
    "\n",
    "observation = Observation(pixels=obs_pixels)\n",
    "\n",
    "# Defines the instrument\n",
    "# from coolest.template.classes.psf import GaussianPSF\n",
    "# psf = GaussianPSF(0.2)\n",
    "\n",
    "instrument = Instrument(0.06)\n"
   ]
  },
  {
   "attachments": {},
   "cell_type": "markdown",
   "metadata": {},
   "source": [
    "Group all instances above into a \"master\" COOLEST object"
   ]
  },
  {
   "cell_type": "code",
   "execution_count": 19,
   "metadata": {},
   "outputs": [],
   "source": [
    "# Master object for the standard\n",
    "coolest = COOLEST('MAP',\n",
    "                    origin,\n",
    "                    entity_list,\n",
    "                    observation, \n",
    "                    instrument, \n",
    "                    cosmology)\n"
   ]
  },
  {
   "attachments": {},
   "cell_type": "markdown",
   "metadata": {},
   "source": [
    "Export it as the COOLEST template (JSON format)"
   ]
  },
  {
   "cell_type": "code",
   "execution_count": 20,
   "metadata": {},
   "outputs": [],
   "source": [
    "# export as JSON file\n",
    "template_path = os.path.join(os.getcwd(), TEMPLATE_DIR, TEMPLATE_NAME)\n",
    "serializer = JSONSerializer(template_path, obj=coolest,\n",
    "                            check_external_files=True)\n",
    "\n",
    "# or using pure JSON (more human-readable)\n",
    "serializer.dump_simple()"
   ]
  }
 ],
 "metadata": {
  "kernelspec": {
   "display_name": "Python 3",
   "language": "python",
   "name": "python3"
  },
  "language_info": {
   "codemirror_mode": {
    "name": "ipython",
    "version": 3
   },
   "file_extension": ".py",
   "mimetype": "text/x-python",
   "name": "python",
   "nbconvert_exporter": "python",
   "pygments_lexer": "ipython3",
   "version": "3.8.17"
  },
  "orig_nbformat": 4
 },
 "nbformat": 4,
 "nbformat_minor": 2
}
